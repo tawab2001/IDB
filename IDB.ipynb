{
 "cells": [
  {
   "cell_type": "code",
   "execution_count": 1,
   "id": "b7237305",
   "metadata": {
    "executionInfo": {
     "elapsed": 405,
     "status": "ok",
     "timestamp": 1684351680716,
     "user": {
      "displayName": "Ahmed Tawab",
      "userId": "12552899599655592498"
     },
     "user_tz": -120
    },
    "id": "9f5fef03"
   },
   "outputs": [],
   "source": [
    "import pandas as pd\n",
    "import numpy as np\n",
    "import seaborn as sns\n",
    "import matplotlib.pyplot as plt\n",
    "%matplotlib inline"
   ]
  },
  {
   "cell_type": "code",
   "execution_count": 2,
   "id": "b8f62a03",
   "metadata": {
    "executionInfo": {
     "elapsed": 416,
     "status": "ok",
     "timestamp": 1684351683378,
     "user": {
      "displayName": "Ahmed Tawab",
      "userId": "12552899599655592498"
     },
     "user_tz": -120
    },
    "id": "65b7e34f"
   },
   "outputs": [],
   "source": [
    "df_data = pd.read_csv(\"data.csv\")\n",
    "df_fuel_pricing = pd.read_csv(\"fuel pricing.csv\")\n",
    "df_weather = pd.read_csv(\"weather.csv\")"
   ]
  },
  {
   "cell_type": "markdown",
   "id": "80abebbc",
   "metadata": {
    "id": "45cf9638"
   },
   "source": [
    "### Displaying top 10 rows and statistics for each dataset"
   ]
  },
  {
   "cell_type": "markdown",
   "id": "3b094000",
   "metadata": {
    "id": "339ce714"
   },
   "source": [
    "#### Displaying \"data.csv file\""
   ]
  },
  {
   "cell_type": "code",
   "execution_count": 3,
   "id": "c2f3102f",
   "metadata": {
    "colab": {
     "base_uri": "https://localhost:8080/",
     "height": 300
    },
    "executionInfo": {
     "elapsed": 282,
     "status": "ok",
     "timestamp": 1684351694637,
     "user": {
      "displayName": "Ahmed Tawab",
      "userId": "12552899599655592498"
     },
     "user_tz": -120
    },
    "id": "af948b1b",
    "outputId": "5a7b0494-dbc8-4f0e-e3d8-e053ee34655c"
   },
   "outputs": [
    {
     "data": {
      "text/html": [
       "<div>\n",
       "<style scoped>\n",
       "    .dataframe tbody tr th:only-of-type {\n",
       "        vertical-align: middle;\n",
       "    }\n",
       "\n",
       "    .dataframe tbody tr th {\n",
       "        vertical-align: top;\n",
       "    }\n",
       "\n",
       "    .dataframe thead th {\n",
       "        text-align: right;\n",
       "    }\n",
       "</style>\n",
       "<table border=\"1\" class=\"dataframe\">\n",
       "  <thead>\n",
       "    <tr style=\"text-align: right;\">\n",
       "      <th></th>\n",
       "      <th>Store</th>\n",
       "      <th>Category</th>\n",
       "      <th>Weekly_Sales</th>\n",
       "    </tr>\n",
       "  </thead>\n",
       "  <tbody>\n",
       "    <tr>\n",
       "      <th>count</th>\n",
       "      <td>421570.000000</td>\n",
       "      <td>421570.000000</td>\n",
       "      <td>421570.000000</td>\n",
       "    </tr>\n",
       "    <tr>\n",
       "      <th>mean</th>\n",
       "      <td>22.200546</td>\n",
       "      <td>44.260317</td>\n",
       "      <td>15981.258123</td>\n",
       "    </tr>\n",
       "    <tr>\n",
       "      <th>std</th>\n",
       "      <td>12.785297</td>\n",
       "      <td>30.492054</td>\n",
       "      <td>22711.183519</td>\n",
       "    </tr>\n",
       "    <tr>\n",
       "      <th>min</th>\n",
       "      <td>1.000000</td>\n",
       "      <td>1.000000</td>\n",
       "      <td>-4988.940000</td>\n",
       "    </tr>\n",
       "    <tr>\n",
       "      <th>25%</th>\n",
       "      <td>11.000000</td>\n",
       "      <td>18.000000</td>\n",
       "      <td>2079.650000</td>\n",
       "    </tr>\n",
       "    <tr>\n",
       "      <th>50%</th>\n",
       "      <td>22.000000</td>\n",
       "      <td>37.000000</td>\n",
       "      <td>7612.030000</td>\n",
       "    </tr>\n",
       "    <tr>\n",
       "      <th>75%</th>\n",
       "      <td>33.000000</td>\n",
       "      <td>74.000000</td>\n",
       "      <td>20205.852500</td>\n",
       "    </tr>\n",
       "    <tr>\n",
       "      <th>max</th>\n",
       "      <td>45.000000</td>\n",
       "      <td>99.000000</td>\n",
       "      <td>693099.360000</td>\n",
       "    </tr>\n",
       "  </tbody>\n",
       "</table>\n",
       "</div>"
      ],
      "text/plain": [
       "               Store       Category   Weekly_Sales\n",
       "count  421570.000000  421570.000000  421570.000000\n",
       "mean       22.200546      44.260317   15981.258123\n",
       "std        12.785297      30.492054   22711.183519\n",
       "min         1.000000       1.000000   -4988.940000\n",
       "25%        11.000000      18.000000    2079.650000\n",
       "50%        22.000000      37.000000    7612.030000\n",
       "75%        33.000000      74.000000   20205.852500\n",
       "max        45.000000      99.000000  693099.360000"
      ]
     },
     "execution_count": 3,
     "metadata": {},
     "output_type": "execute_result"
    }
   ],
   "source": [
    "df_data.describe()"
   ]
  },
  {
   "cell_type": "markdown",
   "id": "fec4b80b",
   "metadata": {
    "id": "eb63bf5d"
   },
   "source": [
    "#### Displaying \"fuel pricing.csv\""
   ]
  },
  {
   "cell_type": "code",
   "execution_count": 4,
   "id": "2cf07da9",
   "metadata": {
    "colab": {
     "base_uri": "https://localhost:8080/",
     "height": 363
    },
    "executionInfo": {
     "elapsed": 584,
     "status": "ok",
     "timestamp": 1684351703124,
     "user": {
      "displayName": "Ahmed Tawab",
      "userId": "12552899599655592498"
     },
     "user_tz": -120
    },
    "id": "7ef8374a",
    "outputId": "0a0d4fc7-228f-43a7-b852-4c35367047c3"
   },
   "outputs": [
    {
     "data": {
      "text/html": [
       "<div>\n",
       "<style scoped>\n",
       "    .dataframe tbody tr th:only-of-type {\n",
       "        vertical-align: middle;\n",
       "    }\n",
       "\n",
       "    .dataframe tbody tr th {\n",
       "        vertical-align: top;\n",
       "    }\n",
       "\n",
       "    .dataframe thead th {\n",
       "        text-align: right;\n",
       "    }\n",
       "</style>\n",
       "<table border=\"1\" class=\"dataframe\">\n",
       "  <thead>\n",
       "    <tr style=\"text-align: right;\">\n",
       "      <th></th>\n",
       "      <th>Store</th>\n",
       "      <th>Date</th>\n",
       "      <th>Fuel_Price</th>\n",
       "    </tr>\n",
       "  </thead>\n",
       "  <tbody>\n",
       "    <tr>\n",
       "      <th>0</th>\n",
       "      <td>1</td>\n",
       "      <td>2010-02-05</td>\n",
       "      <td>2.572</td>\n",
       "    </tr>\n",
       "    <tr>\n",
       "      <th>1</th>\n",
       "      <td>1</td>\n",
       "      <td>2010-02-12</td>\n",
       "      <td>2.548</td>\n",
       "    </tr>\n",
       "    <tr>\n",
       "      <th>2</th>\n",
       "      <td>1</td>\n",
       "      <td>2010-02-19</td>\n",
       "      <td>2.514</td>\n",
       "    </tr>\n",
       "    <tr>\n",
       "      <th>3</th>\n",
       "      <td>1</td>\n",
       "      <td>2010-02-26</td>\n",
       "      <td>2.561</td>\n",
       "    </tr>\n",
       "    <tr>\n",
       "      <th>4</th>\n",
       "      <td>1</td>\n",
       "      <td>2010-03-05</td>\n",
       "      <td>2.625</td>\n",
       "    </tr>\n",
       "    <tr>\n",
       "      <th>5</th>\n",
       "      <td>1</td>\n",
       "      <td>2010-03-12</td>\n",
       "      <td>2.667</td>\n",
       "    </tr>\n",
       "    <tr>\n",
       "      <th>6</th>\n",
       "      <td>1</td>\n",
       "      <td>2010-03-19</td>\n",
       "      <td>2.720</td>\n",
       "    </tr>\n",
       "    <tr>\n",
       "      <th>7</th>\n",
       "      <td>1</td>\n",
       "      <td>2010-03-26</td>\n",
       "      <td>2.732</td>\n",
       "    </tr>\n",
       "    <tr>\n",
       "      <th>8</th>\n",
       "      <td>1</td>\n",
       "      <td>2010-04-02</td>\n",
       "      <td>2.719</td>\n",
       "    </tr>\n",
       "    <tr>\n",
       "      <th>9</th>\n",
       "      <td>1</td>\n",
       "      <td>2010-04-09</td>\n",
       "      <td>2.770</td>\n",
       "    </tr>\n",
       "  </tbody>\n",
       "</table>\n",
       "</div>"
      ],
      "text/plain": [
       "   Store        Date  Fuel_Price\n",
       "0      1  2010-02-05       2.572\n",
       "1      1  2010-02-12       2.548\n",
       "2      1  2010-02-19       2.514\n",
       "3      1  2010-02-26       2.561\n",
       "4      1  2010-03-05       2.625\n",
       "5      1  2010-03-12       2.667\n",
       "6      1  2010-03-19       2.720\n",
       "7      1  2010-03-26       2.732\n",
       "8      1  2010-04-02       2.719\n",
       "9      1  2010-04-09       2.770"
      ]
     },
     "execution_count": 4,
     "metadata": {},
     "output_type": "execute_result"
    }
   ],
   "source": [
    "df_fuel_pricing.head(10)"
   ]
  },
  {
   "cell_type": "code",
   "execution_count": 5,
   "id": "651e63a2",
   "metadata": {
    "colab": {
     "base_uri": "https://localhost:8080/",
     "height": 300
    },
    "executionInfo": {
     "elapsed": 6,
     "status": "ok",
     "timestamp": 1684351704375,
     "user": {
      "displayName": "Ahmed Tawab",
      "userId": "12552899599655592498"
     },
     "user_tz": -120
    },
    "id": "ee0e6b37",
    "outputId": "f5bd6bdc-eb3b-4646-e8f8-31e29d8c5a03"
   },
   "outputs": [
    {
     "data": {
      "text/html": [
       "<div>\n",
       "<style scoped>\n",
       "    .dataframe tbody tr th:only-of-type {\n",
       "        vertical-align: middle;\n",
       "    }\n",
       "\n",
       "    .dataframe tbody tr th {\n",
       "        vertical-align: top;\n",
       "    }\n",
       "\n",
       "    .dataframe thead th {\n",
       "        text-align: right;\n",
       "    }\n",
       "</style>\n",
       "<table border=\"1\" class=\"dataframe\">\n",
       "  <thead>\n",
       "    <tr style=\"text-align: right;\">\n",
       "      <th></th>\n",
       "      <th>Store</th>\n",
       "      <th>Fuel_Price</th>\n",
       "    </tr>\n",
       "  </thead>\n",
       "  <tbody>\n",
       "    <tr>\n",
       "      <th>count</th>\n",
       "      <td>8190.000000</td>\n",
       "      <td>8190.000000</td>\n",
       "    </tr>\n",
       "    <tr>\n",
       "      <th>mean</th>\n",
       "      <td>23.000000</td>\n",
       "      <td>3.405992</td>\n",
       "    </tr>\n",
       "    <tr>\n",
       "      <th>std</th>\n",
       "      <td>12.987966</td>\n",
       "      <td>0.431337</td>\n",
       "    </tr>\n",
       "    <tr>\n",
       "      <th>min</th>\n",
       "      <td>1.000000</td>\n",
       "      <td>2.472000</td>\n",
       "    </tr>\n",
       "    <tr>\n",
       "      <th>25%</th>\n",
       "      <td>12.000000</td>\n",
       "      <td>3.041000</td>\n",
       "    </tr>\n",
       "    <tr>\n",
       "      <th>50%</th>\n",
       "      <td>23.000000</td>\n",
       "      <td>3.513000</td>\n",
       "    </tr>\n",
       "    <tr>\n",
       "      <th>75%</th>\n",
       "      <td>34.000000</td>\n",
       "      <td>3.743000</td>\n",
       "    </tr>\n",
       "    <tr>\n",
       "      <th>max</th>\n",
       "      <td>45.000000</td>\n",
       "      <td>4.468000</td>\n",
       "    </tr>\n",
       "  </tbody>\n",
       "</table>\n",
       "</div>"
      ],
      "text/plain": [
       "             Store   Fuel_Price\n",
       "count  8190.000000  8190.000000\n",
       "mean     23.000000     3.405992\n",
       "std      12.987966     0.431337\n",
       "min       1.000000     2.472000\n",
       "25%      12.000000     3.041000\n",
       "50%      23.000000     3.513000\n",
       "75%      34.000000     3.743000\n",
       "max      45.000000     4.468000"
      ]
     },
     "execution_count": 5,
     "metadata": {},
     "output_type": "execute_result"
    }
   ],
   "source": [
    "df_fuel_pricing.describe()"
   ]
  },
  {
   "cell_type": "markdown",
   "id": "dc49a890",
   "metadata": {
    "id": "71c13d35"
   },
   "source": [
    "#### Displaying \"weather.csv\""
   ]
  },
  {
   "cell_type": "code",
   "execution_count": 6,
   "id": "9fb5f69a",
   "metadata": {
    "colab": {
     "base_uri": "https://localhost:8080/",
     "height": 363
    },
    "executionInfo": {
     "elapsed": 515,
     "status": "ok",
     "timestamp": 1684351711325,
     "user": {
      "displayName": "Ahmed Tawab",
      "userId": "12552899599655592498"
     },
     "user_tz": -120
    },
    "id": "cbf957eb",
    "outputId": "8bc8dc8d-c28f-4361-f099-dc9b416b13af"
   },
   "outputs": [
    {
     "data": {
      "text/html": [
       "<div>\n",
       "<style scoped>\n",
       "    .dataframe tbody tr th:only-of-type {\n",
       "        vertical-align: middle;\n",
       "    }\n",
       "\n",
       "    .dataframe tbody tr th {\n",
       "        vertical-align: top;\n",
       "    }\n",
       "\n",
       "    .dataframe thead th {\n",
       "        text-align: right;\n",
       "    }\n",
       "</style>\n",
       "<table border=\"1\" class=\"dataframe\">\n",
       "  <thead>\n",
       "    <tr style=\"text-align: right;\">\n",
       "      <th></th>\n",
       "      <th>Store</th>\n",
       "      <th>Date</th>\n",
       "      <th>Temperature</th>\n",
       "    </tr>\n",
       "  </thead>\n",
       "  <tbody>\n",
       "    <tr>\n",
       "      <th>0</th>\n",
       "      <td>1</td>\n",
       "      <td>2010-02-05</td>\n",
       "      <td>42.31</td>\n",
       "    </tr>\n",
       "    <tr>\n",
       "      <th>1</th>\n",
       "      <td>1</td>\n",
       "      <td>2010-02-12</td>\n",
       "      <td>38.51</td>\n",
       "    </tr>\n",
       "    <tr>\n",
       "      <th>2</th>\n",
       "      <td>1</td>\n",
       "      <td>2010-02-19</td>\n",
       "      <td>39.93</td>\n",
       "    </tr>\n",
       "    <tr>\n",
       "      <th>3</th>\n",
       "      <td>1</td>\n",
       "      <td>2010-02-26</td>\n",
       "      <td>46.63</td>\n",
       "    </tr>\n",
       "    <tr>\n",
       "      <th>4</th>\n",
       "      <td>1</td>\n",
       "      <td>2010-03-05</td>\n",
       "      <td>46.50</td>\n",
       "    </tr>\n",
       "    <tr>\n",
       "      <th>5</th>\n",
       "      <td>1</td>\n",
       "      <td>2010-03-12</td>\n",
       "      <td>57.79</td>\n",
       "    </tr>\n",
       "    <tr>\n",
       "      <th>6</th>\n",
       "      <td>1</td>\n",
       "      <td>2010-03-19</td>\n",
       "      <td>54.58</td>\n",
       "    </tr>\n",
       "    <tr>\n",
       "      <th>7</th>\n",
       "      <td>1</td>\n",
       "      <td>2010-03-26</td>\n",
       "      <td>51.45</td>\n",
       "    </tr>\n",
       "    <tr>\n",
       "      <th>8</th>\n",
       "      <td>1</td>\n",
       "      <td>2010-04-02</td>\n",
       "      <td>62.27</td>\n",
       "    </tr>\n",
       "    <tr>\n",
       "      <th>9</th>\n",
       "      <td>1</td>\n",
       "      <td>2010-04-09</td>\n",
       "      <td>65.86</td>\n",
       "    </tr>\n",
       "  </tbody>\n",
       "</table>\n",
       "</div>"
      ],
      "text/plain": [
       "   Store        Date  Temperature\n",
       "0      1  2010-02-05        42.31\n",
       "1      1  2010-02-12        38.51\n",
       "2      1  2010-02-19        39.93\n",
       "3      1  2010-02-26        46.63\n",
       "4      1  2010-03-05        46.50\n",
       "5      1  2010-03-12        57.79\n",
       "6      1  2010-03-19        54.58\n",
       "7      1  2010-03-26        51.45\n",
       "8      1  2010-04-02        62.27\n",
       "9      1  2010-04-09        65.86"
      ]
     },
     "execution_count": 6,
     "metadata": {},
     "output_type": "execute_result"
    }
   ],
   "source": [
    "df_weather.head(10)"
   ]
  },
  {
   "cell_type": "code",
   "execution_count": 7,
   "id": "d06806bd",
   "metadata": {
    "colab": {
     "base_uri": "https://localhost:8080/",
     "height": 300
    },
    "executionInfo": {
     "elapsed": 8,
     "status": "ok",
     "timestamp": 1684351712579,
     "user": {
      "displayName": "Ahmed Tawab",
      "userId": "12552899599655592498"
     },
     "user_tz": -120
    },
    "id": "087078fb",
    "outputId": "29a07a2e-71b4-4d8d-fa18-8d81be41e0c4"
   },
   "outputs": [
    {
     "data": {
      "text/html": [
       "<div>\n",
       "<style scoped>\n",
       "    .dataframe tbody tr th:only-of-type {\n",
       "        vertical-align: middle;\n",
       "    }\n",
       "\n",
       "    .dataframe tbody tr th {\n",
       "        vertical-align: top;\n",
       "    }\n",
       "\n",
       "    .dataframe thead th {\n",
       "        text-align: right;\n",
       "    }\n",
       "</style>\n",
       "<table border=\"1\" class=\"dataframe\">\n",
       "  <thead>\n",
       "    <tr style=\"text-align: right;\">\n",
       "      <th></th>\n",
       "      <th>Store</th>\n",
       "      <th>Temperature</th>\n",
       "    </tr>\n",
       "  </thead>\n",
       "  <tbody>\n",
       "    <tr>\n",
       "      <th>count</th>\n",
       "      <td>8190.000000</td>\n",
       "      <td>8190.000000</td>\n",
       "    </tr>\n",
       "    <tr>\n",
       "      <th>mean</th>\n",
       "      <td>23.000000</td>\n",
       "      <td>59.356198</td>\n",
       "    </tr>\n",
       "    <tr>\n",
       "      <th>std</th>\n",
       "      <td>12.987966</td>\n",
       "      <td>18.678607</td>\n",
       "    </tr>\n",
       "    <tr>\n",
       "      <th>min</th>\n",
       "      <td>1.000000</td>\n",
       "      <td>-7.290000</td>\n",
       "    </tr>\n",
       "    <tr>\n",
       "      <th>25%</th>\n",
       "      <td>12.000000</td>\n",
       "      <td>45.902500</td>\n",
       "    </tr>\n",
       "    <tr>\n",
       "      <th>50%</th>\n",
       "      <td>23.000000</td>\n",
       "      <td>60.710000</td>\n",
       "    </tr>\n",
       "    <tr>\n",
       "      <th>75%</th>\n",
       "      <td>34.000000</td>\n",
       "      <td>73.880000</td>\n",
       "    </tr>\n",
       "    <tr>\n",
       "      <th>max</th>\n",
       "      <td>45.000000</td>\n",
       "      <td>101.950000</td>\n",
       "    </tr>\n",
       "  </tbody>\n",
       "</table>\n",
       "</div>"
      ],
      "text/plain": [
       "             Store  Temperature\n",
       "count  8190.000000  8190.000000\n",
       "mean     23.000000    59.356198\n",
       "std      12.987966    18.678607\n",
       "min       1.000000    -7.290000\n",
       "25%      12.000000    45.902500\n",
       "50%      23.000000    60.710000\n",
       "75%      34.000000    73.880000\n",
       "max      45.000000   101.950000"
      ]
     },
     "execution_count": 7,
     "metadata": {},
     "output_type": "execute_result"
    }
   ],
   "source": [
    "df_weather.describe()"
   ]
  },
  {
   "cell_type": "markdown",
   "id": "de4c7b7c",
   "metadata": {
    "id": "c34218a6"
   },
   "source": [
    "## Dealing with missing data"
   ]
  },
  {
   "cell_type": "code",
   "execution_count": 8,
   "id": "a8a9a8e6",
   "metadata": {
    "colab": {
     "base_uri": "https://localhost:8080/"
    },
    "executionInfo": {
     "elapsed": 291,
     "status": "ok",
     "timestamp": 1684351717398,
     "user": {
      "displayName": "Ahmed Tawab",
      "userId": "12552899599655592498"
     },
     "user_tz": -120
    },
    "id": "b1e356f8",
    "outputId": "b9cdbea0-1bcf-4295-b479-74135b42d37c"
   },
   "outputs": [
    {
     "name": "stdout",
     "output_type": "stream",
     "text": [
      "<class 'pandas.core.frame.DataFrame'>\n",
      "RangeIndex: 421570 entries, 0 to 421569\n",
      "Data columns (total 5 columns):\n",
      " #   Column        Non-Null Count   Dtype  \n",
      "---  ------        --------------   -----  \n",
      " 0   Store         421570 non-null  int64  \n",
      " 1   Category      421570 non-null  int64  \n",
      " 2   Date          421570 non-null  object \n",
      " 3   Weekly_Sales  421570 non-null  float64\n",
      " 4   Holiday       421570 non-null  bool   \n",
      "dtypes: bool(1), float64(1), int64(2), object(1)\n",
      "memory usage: 13.3+ MB\n"
     ]
    }
   ],
   "source": [
    "df_data.info()"
   ]
  },
  {
   "cell_type": "markdown",
   "id": "6fdb43a0",
   "metadata": {
    "id": "7168abc4"
   },
   "source": [
    "##### There are no null rows"
   ]
  },
  {
   "cell_type": "code",
   "execution_count": 9,
   "id": "26da0c0b",
   "metadata": {
    "colab": {
     "base_uri": "https://localhost:8080/",
     "height": 49
    },
    "executionInfo": {
     "elapsed": 5131,
     "status": "ok",
     "timestamp": 1684351727300,
     "user": {
      "displayName": "Ahmed Tawab",
      "userId": "12552899599655592498"
     },
     "user_tz": -120
    },
    "id": "39471462",
    "outputId": "79303b57-ba27-4cd4-867f-e275ffcbc5aa"
   },
   "outputs": [
    {
     "data": {
      "text/html": [
       "<div>\n",
       "<style scoped>\n",
       "    .dataframe tbody tr th:only-of-type {\n",
       "        vertical-align: middle;\n",
       "    }\n",
       "\n",
       "    .dataframe tbody tr th {\n",
       "        vertical-align: top;\n",
       "    }\n",
       "\n",
       "    .dataframe thead th {\n",
       "        text-align: right;\n",
       "    }\n",
       "</style>\n",
       "<table border=\"1\" class=\"dataframe\">\n",
       "  <thead>\n",
       "    <tr style=\"text-align: right;\">\n",
       "      <th></th>\n",
       "      <th>Store</th>\n",
       "      <th>Category</th>\n",
       "      <th>Date</th>\n",
       "      <th>Weekly_Sales</th>\n",
       "      <th>Holiday</th>\n",
       "    </tr>\n",
       "  </thead>\n",
       "  <tbody>\n",
       "  </tbody>\n",
       "</table>\n",
       "</div>"
      ],
      "text/plain": [
       "Empty DataFrame\n",
       "Columns: [Store, Category, Date, Weekly_Sales, Holiday]\n",
       "Index: []"
      ]
     },
     "execution_count": 9,
     "metadata": {},
     "output_type": "execute_result"
    }
   ],
   "source": [
    "avg = df_data[\"Weekly_Sales\"].mean()\n",
    "\n",
    "for x in df_data.index:\n",
    "  if df_data.loc[x, \"Weekly_Sales\"] <= 0:\n",
    "    df_data.loc[x, \"Weekly_Sales\"] = avg\n",
    "\n",
    "df_data[df_data['Weekly_Sales'] <= 0]"
   ]
  },
  {
   "cell_type": "markdown",
   "id": "8fe8dcdd",
   "metadata": {
    "id": "01b752cc"
   },
   "source": [
    "##### No 0s displayed in our Weekly_Sales for \"data.csv\""
   ]
  },
  {
   "cell_type": "code",
   "execution_count": 10,
   "id": "9cd2a6c3",
   "metadata": {
    "colab": {
     "base_uri": "https://localhost:8080/",
     "height": 424
    },
    "executionInfo": {
     "elapsed": 281,
     "status": "ok",
     "timestamp": 1684351730477,
     "user": {
      "displayName": "Ahmed Tawab",
      "userId": "12552899599655592498"
     },
     "user_tz": -120
    },
    "id": "LoHwn4paOIXC",
    "outputId": "19db6bfe-e65f-4069-916e-b6c16e25541a"
   },
   "outputs": [
    {
     "data": {
      "text/html": [
       "<div>\n",
       "<style scoped>\n",
       "    .dataframe tbody tr th:only-of-type {\n",
       "        vertical-align: middle;\n",
       "    }\n",
       "\n",
       "    .dataframe tbody tr th {\n",
       "        vertical-align: top;\n",
       "    }\n",
       "\n",
       "    .dataframe thead th {\n",
       "        text-align: right;\n",
       "    }\n",
       "</style>\n",
       "<table border=\"1\" class=\"dataframe\">\n",
       "  <thead>\n",
       "    <tr style=\"text-align: right;\">\n",
       "      <th></th>\n",
       "      <th>Store</th>\n",
       "      <th>Category</th>\n",
       "      <th>Date</th>\n",
       "      <th>Weekly_Sales</th>\n",
       "      <th>Holiday</th>\n",
       "    </tr>\n",
       "  </thead>\n",
       "  <tbody>\n",
       "    <tr>\n",
       "      <th>0</th>\n",
       "      <td>1</td>\n",
       "      <td>1</td>\n",
       "      <td>2010-02-05</td>\n",
       "      <td>24924.50</td>\n",
       "      <td>False</td>\n",
       "    </tr>\n",
       "    <tr>\n",
       "      <th>1</th>\n",
       "      <td>1</td>\n",
       "      <td>1</td>\n",
       "      <td>2010-02-12</td>\n",
       "      <td>46039.49</td>\n",
       "      <td>True</td>\n",
       "    </tr>\n",
       "    <tr>\n",
       "      <th>2</th>\n",
       "      <td>1</td>\n",
       "      <td>1</td>\n",
       "      <td>2010-02-19</td>\n",
       "      <td>41595.55</td>\n",
       "      <td>False</td>\n",
       "    </tr>\n",
       "    <tr>\n",
       "      <th>3</th>\n",
       "      <td>1</td>\n",
       "      <td>1</td>\n",
       "      <td>2010-02-26</td>\n",
       "      <td>19403.54</td>\n",
       "      <td>False</td>\n",
       "    </tr>\n",
       "    <tr>\n",
       "      <th>4</th>\n",
       "      <td>1</td>\n",
       "      <td>1</td>\n",
       "      <td>2010-03-05</td>\n",
       "      <td>21827.90</td>\n",
       "      <td>False</td>\n",
       "    </tr>\n",
       "    <tr>\n",
       "      <th>...</th>\n",
       "      <td>...</td>\n",
       "      <td>...</td>\n",
       "      <td>...</td>\n",
       "      <td>...</td>\n",
       "      <td>...</td>\n",
       "    </tr>\n",
       "    <tr>\n",
       "      <th>421565</th>\n",
       "      <td>45</td>\n",
       "      <td>98</td>\n",
       "      <td>2012-09-28</td>\n",
       "      <td>508.37</td>\n",
       "      <td>False</td>\n",
       "    </tr>\n",
       "    <tr>\n",
       "      <th>421566</th>\n",
       "      <td>45</td>\n",
       "      <td>98</td>\n",
       "      <td>2012-10-05</td>\n",
       "      <td>628.10</td>\n",
       "      <td>False</td>\n",
       "    </tr>\n",
       "    <tr>\n",
       "      <th>421567</th>\n",
       "      <td>45</td>\n",
       "      <td>98</td>\n",
       "      <td>2012-10-12</td>\n",
       "      <td>1061.02</td>\n",
       "      <td>False</td>\n",
       "    </tr>\n",
       "    <tr>\n",
       "      <th>421568</th>\n",
       "      <td>45</td>\n",
       "      <td>98</td>\n",
       "      <td>2012-10-19</td>\n",
       "      <td>760.01</td>\n",
       "      <td>False</td>\n",
       "    </tr>\n",
       "    <tr>\n",
       "      <th>421569</th>\n",
       "      <td>45</td>\n",
       "      <td>98</td>\n",
       "      <td>2012-10-26</td>\n",
       "      <td>1076.80</td>\n",
       "      <td>False</td>\n",
       "    </tr>\n",
       "  </tbody>\n",
       "</table>\n",
       "<p>421570 rows × 5 columns</p>\n",
       "</div>"
      ],
      "text/plain": [
       "        Store  Category        Date  Weekly_Sales  Holiday\n",
       "0           1         1  2010-02-05      24924.50    False\n",
       "1           1         1  2010-02-12      46039.49     True\n",
       "2           1         1  2010-02-19      41595.55    False\n",
       "3           1         1  2010-02-26      19403.54    False\n",
       "4           1         1  2010-03-05      21827.90    False\n",
       "...       ...       ...         ...           ...      ...\n",
       "421565     45        98  2012-09-28        508.37    False\n",
       "421566     45        98  2012-10-05        628.10    False\n",
       "421567     45        98  2012-10-12       1061.02    False\n",
       "421568     45        98  2012-10-19        760.01    False\n",
       "421569     45        98  2012-10-26       1076.80    False\n",
       "\n",
       "[421570 rows x 5 columns]"
      ]
     },
     "execution_count": 10,
     "metadata": {},
     "output_type": "execute_result"
    }
   ],
   "source": [
    "df_data.dropna()"
   ]
  },
  {
   "cell_type": "code",
   "execution_count": 11,
   "id": "705ae98a",
   "metadata": {
    "colab": {
     "base_uri": "https://localhost:8080/"
    },
    "executionInfo": {
     "elapsed": 398,
     "status": "ok",
     "timestamp": 1684351734036,
     "user": {
      "displayName": "Ahmed Tawab",
      "userId": "12552899599655592498"
     },
     "user_tz": -120
    },
    "id": "4f392b9e",
    "outputId": "bac5bcad-9b9b-49a5-8a0e-f013536efbb5"
   },
   "outputs": [
    {
     "name": "stdout",
     "output_type": "stream",
     "text": [
      "<class 'pandas.core.frame.DataFrame'>\n",
      "RangeIndex: 8190 entries, 0 to 8189\n",
      "Data columns (total 3 columns):\n",
      " #   Column      Non-Null Count  Dtype  \n",
      "---  ------      --------------  -----  \n",
      " 0   Store       8190 non-null   int64  \n",
      " 1   Date        8190 non-null   object \n",
      " 2   Fuel_Price  8190 non-null   float64\n",
      "dtypes: float64(1), int64(1), object(1)\n",
      "memory usage: 192.1+ KB\n"
     ]
    }
   ],
   "source": [
    "df_fuel_pricing.info()"
   ]
  },
  {
   "cell_type": "code",
   "execution_count": 12,
   "id": "6a215a17",
   "metadata": {
    "colab": {
     "base_uri": "https://localhost:8080/"
    },
    "executionInfo": {
     "elapsed": 288,
     "status": "ok",
     "timestamp": 1684351736531,
     "user": {
      "displayName": "Ahmed Tawab",
      "userId": "12552899599655592498"
     },
     "user_tz": -120
    },
    "id": "8897ac04",
    "outputId": "b1f998fc-c7f7-4c44-9845-a2a00326c08e"
   },
   "outputs": [
    {
     "name": "stdout",
     "output_type": "stream",
     "text": [
      "<class 'pandas.core.frame.DataFrame'>\n",
      "RangeIndex: 8190 entries, 0 to 8189\n",
      "Data columns (total 3 columns):\n",
      " #   Column       Non-Null Count  Dtype  \n",
      "---  ------       --------------  -----  \n",
      " 0   Store        8190 non-null   int64  \n",
      " 1   Date         8190 non-null   object \n",
      " 2   Temperature  8190 non-null   float64\n",
      "dtypes: float64(1), int64(1), object(1)\n",
      "memory usage: 192.1+ KB\n"
     ]
    }
   ],
   "source": [
    "df_weather.info()"
   ]
  },
  {
   "cell_type": "markdown",
   "id": "11f4b28f",
   "metadata": {
    "id": "xKSgNLjNMNoq"
   },
   "source": [
    "## Merging data and store"
   ]
  },
  {
   "cell_type": "code",
   "execution_count": 13,
   "id": "3b433c0a",
   "metadata": {
    "colab": {
     "base_uri": "https://localhost:8080/",
     "height": 206
    },
    "executionInfo": {
     "elapsed": 432,
     "status": "ok",
     "timestamp": 1684351740690,
     "user": {
      "displayName": "Ahmed Tawab",
      "userId": "12552899599655592498"
     },
     "user_tz": -120
    },
    "id": "uzibnIbZMY2r",
    "outputId": "ee1e5db5-8311-4616-a153-4b9af81afdad"
   },
   "outputs": [
    {
     "data": {
      "text/html": [
       "<div>\n",
       "<style scoped>\n",
       "    .dataframe tbody tr th:only-of-type {\n",
       "        vertical-align: middle;\n",
       "    }\n",
       "\n",
       "    .dataframe tbody tr th {\n",
       "        vertical-align: top;\n",
       "    }\n",
       "\n",
       "    .dataframe thead th {\n",
       "        text-align: right;\n",
       "    }\n",
       "</style>\n",
       "<table border=\"1\" class=\"dataframe\">\n",
       "  <thead>\n",
       "    <tr style=\"text-align: right;\">\n",
       "      <th></th>\n",
       "      <th>Store</th>\n",
       "      <th>Category</th>\n",
       "      <th>Date</th>\n",
       "      <th>Weekly_Sales</th>\n",
       "      <th>Holiday</th>\n",
       "      <th>Fuel_Price</th>\n",
       "      <th>Temperature</th>\n",
       "    </tr>\n",
       "  </thead>\n",
       "  <tbody>\n",
       "    <tr>\n",
       "      <th>0</th>\n",
       "      <td>1</td>\n",
       "      <td>1</td>\n",
       "      <td>2010-02-05</td>\n",
       "      <td>24924.50</td>\n",
       "      <td>False</td>\n",
       "      <td>2.572</td>\n",
       "      <td>42.31</td>\n",
       "    </tr>\n",
       "    <tr>\n",
       "      <th>1</th>\n",
       "      <td>1</td>\n",
       "      <td>2</td>\n",
       "      <td>2010-02-05</td>\n",
       "      <td>50605.27</td>\n",
       "      <td>False</td>\n",
       "      <td>2.572</td>\n",
       "      <td>42.31</td>\n",
       "    </tr>\n",
       "    <tr>\n",
       "      <th>2</th>\n",
       "      <td>1</td>\n",
       "      <td>3</td>\n",
       "      <td>2010-02-05</td>\n",
       "      <td>13740.12</td>\n",
       "      <td>False</td>\n",
       "      <td>2.572</td>\n",
       "      <td>42.31</td>\n",
       "    </tr>\n",
       "    <tr>\n",
       "      <th>3</th>\n",
       "      <td>1</td>\n",
       "      <td>4</td>\n",
       "      <td>2010-02-05</td>\n",
       "      <td>39954.04</td>\n",
       "      <td>False</td>\n",
       "      <td>2.572</td>\n",
       "      <td>42.31</td>\n",
       "    </tr>\n",
       "    <tr>\n",
       "      <th>4</th>\n",
       "      <td>1</td>\n",
       "      <td>5</td>\n",
       "      <td>2010-02-05</td>\n",
       "      <td>32229.38</td>\n",
       "      <td>False</td>\n",
       "      <td>2.572</td>\n",
       "      <td>42.31</td>\n",
       "    </tr>\n",
       "  </tbody>\n",
       "</table>\n",
       "</div>"
      ],
      "text/plain": [
       "   Store  Category       Date  Weekly_Sales  Holiday  Fuel_Price  Temperature\n",
       "0      1         1 2010-02-05      24924.50    False       2.572        42.31\n",
       "1      1         2 2010-02-05      50605.27    False       2.572        42.31\n",
       "2      1         3 2010-02-05      13740.12    False       2.572        42.31\n",
       "3      1         4 2010-02-05      39954.04    False       2.572        42.31\n",
       "4      1         5 2010-02-05      32229.38    False       2.572        42.31"
      ]
     },
     "execution_count": 13,
     "metadata": {},
     "output_type": "execute_result"
    }
   ],
   "source": [
    "df_merged = pd.merge(df_data, df_fuel_pricing, on=['Store', 'Date'])\n",
    "df_final = pd.merge(df_merged, df_weather, on=[\"Store\", \"Date\"])\n",
    "df_final[\"Date\"] = pd.to_datetime(df_final['Date'])\n",
    "df_final.head()"
   ]
  },
  {
   "cell_type": "code",
   "execution_count": 14,
   "id": "c4e7aef1",
   "metadata": {
    "executionInfo": {
     "elapsed": 291,
     "status": "ok",
     "timestamp": 1684351744678,
     "user": {
      "displayName": "Ahmed Tawab",
      "userId": "12552899599655592498"
     },
     "user_tz": -120
    },
    "id": "2_neeiloftXV"
   },
   "outputs": [],
   "source": [
    "df_Y = df_final.groupby(df_final['Date'])['Weekly_Sales'].sum().sort_values()"
   ]
  },
  {
   "cell_type": "markdown",
   "id": "5f994e3d",
   "metadata": {
    "id": "Mrb7hx_fSIds"
   },
   "source": [
    "## Visualization"
   ]
  },
  {
   "cell_type": "code",
   "execution_count": 15,
   "id": "53aa43db",
   "metadata": {
    "colab": {
     "base_uri": "https://localhost:8080/",
     "height": 807
    },
    "executionInfo": {
     "elapsed": 1321,
     "status": "ok",
     "timestamp": 1684351750943,
     "user": {
      "displayName": "Ahmed Tawab",
      "userId": "12552899599655592498"
     },
     "user_tz": -120
    },
    "id": "BqitiVuPSLQC",
    "outputId": "273509c2-7bb1-4d11-afc3-0b79583ee452"
   },
   "outputs": [
    {
     "data": {
      "image/png": "[encoded data removed]",
      "text/plain": [
       "<Figure size 792x576 with 1 Axes>"
      ]
     },
     "metadata": {
      "needs_background": "light"
     },
     "output_type": "display_data"
    }
   ],
   "source": [
    "plt.figure(figsize=(11, 8))\n",
    "sns.lineplot(x=df_Y.index,y=df_Y)\n",
    "plt.title(\"Weekly Sales V Time\",fontsize = 17)\n",
    "plt.xlabel(\"Time\",fontsize = 15)\n",
    "plt.ylabel(\"Sales (B$)\",fontsize = 15)\n",
    "sns.set_style(\"whitegrid\")\n",
    "sns.despine(bottom=True)\n",
    "plt.tight_layout(h_pad=2)"
   ]
  },
  {
   "cell_type": "code",
   "execution_count": 16,
   "id": "c2835188",
   "metadata": {
    "executionInfo": {
     "elapsed": 297,
     "status": "ok",
     "timestamp": 1684351755237,
     "user": {
      "displayName": "Ahmed Tawab",
      "userId": "12552899599655592498"
     },
     "user_tz": -120
    },
    "id": "y8PZHu-8hCkb"
   },
   "outputs": [],
   "source": [
    "df_M = df_final.groupby(df_final['Category'])['Weekly_Sales'].sum().sort_values().head(10)"
   ]
  },
  {
   "cell_type": "code",
   "execution_count": 17,
   "id": "fc5e775c",
   "metadata": {
    "colab": {
     "base_uri": "https://localhost:8080/",
     "height": 807
    },
    "executionInfo": {
     "elapsed": 623,
     "status": "ok",
     "timestamp": 1684351757081,
     "user": {
      "displayName": "Ahmed Tawab",
      "userId": "12552899599655592498"
     },
     "user_tz": -120
    },
    "id": "IVfKmqEbL7lh",
    "outputId": "c31090af-0dab-4e87-c53d-aacc9df8cfb0"
   },
   "outputs": [
    {
     "data": {
      "image/png": "[encoded data removed]",
      "text/plain": [
       "<Figure size 792x576 with 1 Axes>"
      ]
     },
     "metadata": {},
     "output_type": "display_data"
    }
   ],
   "source": [
    "plt.figure(figsize=(11, 8))\n",
    "sns.barplot(x=df_M.index,y=df_M)\n",
    "plt.title(\"Weekly Sales V Category\",fontsize = 17)\n",
    "plt.xlabel(\"Category\",fontsize = 15)\n",
    "plt.ylabel(\"Sales (B$)\",fontsize = 15)\n",
    "sns.set_style(\"whitegrid\")\n",
    "sns.despine(bottom=True)\n",
    "plt.tight_layout(h_pad=2)"
   ]
  },
  {
   "cell_type": "code",
   "execution_count": 18,
   "id": "087a14e5",
   "metadata": {
    "colab": {
     "base_uri": "https://localhost:8080/"
    },
    "executionInfo": {
     "elapsed": 483,
     "status": "ok",
     "timestamp": 1684351761163,
     "user": {
      "displayName": "Ahmed Tawab",
      "userId": "12552899599655592498"
     },
     "user_tz": -120
    },
    "id": "HYya9poym4Hf",
    "outputId": "819daeb9-e635-4d2e-b543-5c65adddccf7"
   },
   "outputs": [
    {
     "data": {
      "text/plain": [
       "Store\n",
       "33    3.730416e+07\n",
       "44    4.372517e+07\n",
       "5     4.581173e+07\n",
       "36    5.381288e+07\n",
       "38    5.533569e+07\n",
       "3     5.774774e+07\n",
       "30    6.298869e+07\n",
       "37    7.433071e+07\n",
       "16    7.489599e+07\n",
       "29    7.763825e+07\n",
       "Name: Weekly_Sales, dtype: float64"
      ]
     },
     "execution_count": 18,
     "metadata": {},
     "output_type": "execute_result"
    }
   ],
   "source": [
    "df_S = df_final.groupby(df_final['Store'])['Weekly_Sales'].sum().sort_values().head(10)\n",
    "df_S"
   ]
  },
  {
   "cell_type": "code",
   "execution_count": 19,
   "id": "6a4b3302",
   "metadata": {
    "colab": {
     "base_uri": "https://localhost:8080/",
     "height": 807
    },
    "executionInfo": {
     "elapsed": 593,
     "status": "ok",
     "timestamp": 1684351765850,
     "user": {
      "displayName": "Ahmed Tawab",
      "userId": "12552899599655592498"
     },
     "user_tz": -120
    },
    "id": "NKgTCVzInLQ9",
    "outputId": "6a63676c-43bc-4330-8a4f-d836ab049606"
   },
   "outputs": [
    {
     "data": {
      "image/png": "[encoded data removed]",
      "text/plain": [
       "<Figure size 792x576 with 1 Axes>"
      ]
     },
     "metadata": {},
     "output_type": "display_data"
    }
   ],
   "source": [
    "plt.figure(figsize=(11, 8))\n",
    "sns.barplot(x=df_S.index,y=df_S)\n",
    "plt.title(\"Weekly Sales V Store\",fontsize = 17)\n",
    "plt.xlabel(\"Store\",fontsize = 15)\n",
    "plt.ylabel(\"Sales (B$)\",fontsize = 15)\n",
    "sns.set_style(\"whitegrid\")\n",
    "sns.despine(bottom=True)\n",
    "plt.tight_layout(h_pad=2)"
   ]
  },
  {
   "cell_type": "code",
   "execution_count": 20,
   "id": "2190e156",
   "metadata": {
    "colab": {
     "base_uri": "https://localhost:8080/",
     "height": 607
    },
    "executionInfo": {
     "elapsed": 1209,
     "status": "ok",
     "timestamp": 1684351770816,
     "user": {
      "displayName": "Ahmed Tawab",
      "userId": "12552899599655592498"
     },
     "user_tz": -120
    },
    "id": "03oxOXmtnk5H",
    "outputId": "66ae1af9-4783-4cb3-baa6-e7d077f1f27b"
   },
   "outputs": [
    {
     "data": {
      "image/png": "[encoded data removed]",
      "text/plain": [
       "<Figure size 720x432 with 1 Axes>"
      ]
     },
     "metadata": {},
     "output_type": "display_data"
    }
   ],
   "source": [
    "plt.figure(figsize=(10, 6))\n",
    "sns.histplot(data=df_S, x=\"Store\")\n",
    "plt.title(\"Weekly Sales V Store\",fontsize = 17)\n",
    "plt.xlabel(\"Store\",fontsize = 15)\n",
    "plt.ylabel(\"Sales (B$)\",fontsize = 15)\n",
    "sns.set_style(\"whitegrid\")\n",
    "sns.despine(bottom=True)\n",
    "plt.tight_layout(h_pad=2)"
   ]
  },
  {
   "cell_type": "code",
   "execution_count": 21,
   "id": "992791c3",
   "metadata": {
    "colab": {
     "base_uri": "https://localhost:8080/",
     "height": 472
    },
    "executionInfo": {
     "elapsed": 802,
     "status": "ok",
     "timestamp": 1684351776982,
     "user": {
      "displayName": "Ahmed Tawab",
      "userId": "12552899599655592498"
     },
     "user_tz": -120
    },
    "id": "naLuINC-uDDi",
    "outputId": "222f875f-b9ba-4df9-d77f-844716546b04"
   },
   "outputs": [
    {
     "data": {
      "image/png": "[encoded data removed]",
      "text/plain": [
       "<Figure size 432x288 with 1 Axes>"
      ]
     },
     "metadata": {},
     "output_type": "display_data"
    }
   ],
   "source": [
    "top_ten_stores = df_final.groupby('Store')['Weekly_Sales'].sum().nlargest(10).index\n",
    "filtered_data = df_final[df_final['Store'].isin(top_ten_stores)]\n",
    "\n",
    "# Group the data by 'Holiday' and calculate the average weekly sales\n",
    "average_sales = filtered_data.groupby('Holiday')['Weekly_Sales'].mean().reset_index()\n",
    "\n",
    "# Plotting the bar plot\n",
    "sns.barplot(data=average_sales, x='Holiday', y='Weekly_Sales')\n",
    "\n",
    "# Adding labels and title\n",
    "plt.xlabel('Holiday')\n",
    "plt.ylabel('Average Weekly Sales')\n",
    "plt.title('Average Weekly Sales - Holidays vs Non-Holidays')\n",
    "\n",
    "# Displaying the plot\n",
    "plt.show()"
   ]
  },
  {
   "cell_type": "code",
   "execution_count": 22,
   "id": "f9d1fffa",
   "metadata": {
    "colab": {
     "base_uri": "https://localhost:8080/",
     "height": 472
    },
    "executionInfo": {
     "elapsed": 1024,
     "status": "ok",
     "timestamp": 1684351802047,
     "user": {
      "displayName": "Ahmed Tawab",
      "userId": "12552899599655592498"
     },
     "user_tz": -120
    },
    "id": "trQK-3ILwgWI",
    "outputId": "71543308-b30f-4889-af28-d9184598edf0"
   },
   "outputs": [
    {
     "data": {
      "image/png": "[encoded data removed]",
      "text/plain": [
       "<Figure size 432x288 with 1 Axes>"
      ]
     },
     "metadata": {},
     "output_type": "display_data"
    }
   ],
   "source": [
    "top_ten_stores = df_final.groupby('Store')['Weekly_Sales'].sum().nlargest(10).index\n",
    "filtered_data = df_final[df_final['Store'].isin(top_ten_stores)]\n",
    "\n",
    "# Group the data by 'Brand' and calculate the average weekly sales\n",
    "average_sales = filtered_data.groupby('Category')['Weekly_Sales'].mean().reset_index()\n",
    "\n",
    "# Sort the average sales in descending order and select the top 10 brands\n",
    "top_10_brands = average_sales.nlargest(10, 'Weekly_Sales')\n",
    "\n",
    "# Plotting the bar plot\n",
    "sns.barplot(data=top_10_brands, x='Category', y='Weekly_Sales')\n",
    "\n",
    "# Adding labels and title\n",
    "plt.xlabel('Brand')\n",
    "plt.ylabel('Average Weekly Sales')\n",
    "plt.title('Average Weekly Sales by Brand Department - Top 10 Stores')\n",
    "\n",
    "# Displaying the plot\n",
    "plt.show()"
   ]
  },
  {
   "cell_type": "code",
   "execution_count": 23,
   "id": "6364c1fb",
   "metadata": {
    "colab": {
     "base_uri": "https://localhost:8080/",
     "height": 472
    },
    "executionInfo": {
     "elapsed": 4146,
     "status": "ok",
     "timestamp": 1684351812679,
     "user": {
      "displayName": "Ahmed Tawab",
      "userId": "12552899599655592498"
     },
     "user_tz": -120
    },
    "id": "hE5rGk0m1Ugk",
    "outputId": "4c894798-59cb-4a5f-e841-dd807daa7468"
   },
   "outputs": [
    {
     "data": {
      "image/png": "[encoded data removed]",
      "text/plain": [
       "<Figure size 432x288 with 1 Axes>"
      ]
     },
     "metadata": {},
     "output_type": "display_data"
    }
   ],
   "source": [
    "weekly_sales = df_final['Weekly_Sales']\n",
    "temperature = df_final['Temperature']\n",
    "\n",
    "# Creating the line plot\n",
    "plt.plot(weekly_sales, label='Weekly Sales')\n",
    "plt.plot(temperature, label='Temperature')\n",
    "\n",
    "# Adding labels and title\n",
    "plt.xlabel('Week')\n",
    "plt.ylabel('Value')\n",
    "plt.title('Weekly Sales and Temperature')\n",
    "\n",
    "# Adding legend\n",
    "plt.legend()\n",
    "\n",
    "# Displaying the plot\n",
    "plt.show()"
   ]
  },
  {
   "cell_type": "code",
   "execution_count": 24,
   "id": "2a2fb7f2",
   "metadata": {
    "colab": {
     "base_uri": "https://localhost:8080/",
     "height": 472
    },
    "executionInfo": {
     "elapsed": 4089,
     "status": "ok",
     "timestamp": 1684351823026,
     "user": {
      "displayName": "Ahmed Tawab",
      "userId": "12552899599655592498"
     },
     "user_tz": -120
    },
    "id": "9rOkhoXe3QoZ",
    "outputId": "1a4b0ab1-a8b6-448c-ecdb-0e4f7a7d0d28"
   },
   "outputs": [
    {
     "data": {
      "image/png": "[encoded data removed]",
      "text/plain": [
       "<Figure size 432x288 with 1 Axes>"
      ]
     },
     "metadata": {},
     "output_type": "display_data"
    }
   ],
   "source": [
    "weekly_sales = df_final['Weekly_Sales']\n",
    "fuel = df_final['Fuel_Price']\n",
    "\n",
    "# Creating the line plot\n",
    "plt.plot(weekly_sales, label='Weekly Sales')\n",
    "plt.plot(fuel, label='Fuel Price')\n",
    "\n",
    "# Adding labels and title\n",
    "plt.xlabel('Week')\n",
    "plt.ylabel('Value')\n",
    "plt.title('Weekly Sales and Temperature')\n",
    "\n",
    "# Adding legend\n",
    "plt.legend()\n",
    "\n",
    "# Displaying the plot\n",
    "plt.show()"
   ]
  },
  {
   "cell_type": "markdown",
   "id": "d59c56ed",
   "metadata": {
    "id": "Xt5xXfig-P6M"
   },
   "source": [
    "## Data Modeling"
   ]
  },
  {
   "cell_type": "markdown",
   "id": "376d6fa7",
   "metadata": {
    "id": "FKPq2GBZ-xe4"
   },
   "source": [
    "### Splitting the data"
   ]
  },
  {
   "cell_type": "code",
   "execution_count": 25,
   "id": "8128c9da",
   "metadata": {
    "executionInfo": {
     "elapsed": 318,
     "status": "ok",
     "timestamp": 1684351828500,
     "user": {
      "displayName": "Ahmed Tawab",
      "userId": "12552899599655592498"
     },
     "user_tz": -120
    },
    "id": "9_HPKk_cDbzB"
   },
   "outputs": [],
   "source": [
    "df_final = df_final.drop(\"Date\", axis=1)"
   ]
  },
  {
   "cell_type": "code",
   "execution_count": 26,
   "id": "b818de47",
   "metadata": {
    "executionInfo": {
     "elapsed": 593,
     "status": "ok",
     "timestamp": 1684352549087,
     "user": {
      "displayName": "Ahmed Tawab",
      "userId": "12552899599655592498"
     },
     "user_tz": -120
    },
    "id": "zaJEVuc5DXd4"
   },
   "outputs": [],
   "source": [
    "from sklearn.model_selection import train_test_split\n",
    "from sklearn.preprocessing import MinMaxScaler\n",
    "from sklearn.linear_model import LinearRegression\n",
    "from sklearn.tree import DecisionTreeClassifier\n",
    "from sklearn.metrics import accuracy_score\n",
    "\n",
    "# Splitting the data into training and testing sets\n",
    "X = df_final.drop('Weekly_Sales', axis=1) # Input features\n",
    "y = df_final['Weekly_Sales']  # Target variable\n",
    "\n",
    "X_train, X_test, y_train, y_test = train_test_split(X, y, test_size=0.2, random_state=42)\n"
   ]
  },
  {
   "cell_type": "code",
   "execution_count": 27,
   "id": "91e50552",
   "metadata": {
    "executionInfo": {
     "elapsed": 276,
     "status": "ok",
     "timestamp": 1684352312461,
     "user": {
      "displayName": "Ahmed Tawab",
      "userId": "12552899599655592498"
     },
     "user_tz": -120
    },
    "id": "nxHmO4nLKG5o"
   },
   "outputs": [],
   "source": [
    "scaler = MinMaxScaler(feature_range=(0, 1))\n",
    "X[['Holiday']] = scaler.fit_transform(X[['Holiday']])\n"
   ]
  },
  {
   "cell_type": "code",
   "execution_count": 28,
   "id": "127a2d19",
   "metadata": {
    "colab": {
     "base_uri": "https://localhost:8080/"
    },
    "executionInfo": {
     "elapsed": 419,
     "status": "ok",
     "timestamp": 1684352314440,
     "user": {
      "displayName": "Ahmed Tawab",
      "userId": "12552899599655592498"
     },
     "user_tz": -120
    },
    "id": "17bxxaemNc-7",
    "outputId": "dc743cc2-167a-4ed6-f488-f59b0f11cf8e"
   },
   "outputs": [
    {
     "data": {
      "text/plain": [
       "(421570, 5)"
      ]
     },
     "execution_count": 28,
     "metadata": {},
     "output_type": "execute_result"
    }
   ],
   "source": [
    "  X.shape"
   ]
  },
  {
   "cell_type": "markdown",
   "id": "2caa56a1",
   "metadata": {
    "id": "T-mmkX84EE6a"
   },
   "source": [
    "Creating Supervised Learning Models"
   ]
  },
  {
   "cell_type": "code",
   "execution_count": null,
   "id": "c9fe6347",
   "metadata": {
    "id": "KXnqPrd5IEvb"
   },
   "outputs": [],
   "source": []
  },
  {
   "cell_type": "code",
   "execution_count": null,
   "id": "a21afb79",
   "metadata": {
    "colab": {
     "base_uri": "https://localhost:8080/",
     "height": 75
    },
    "executionInfo": {
     "elapsed": 164964,
     "status": "ok",
     "timestamp": 1684350421403,
     "user": {
      "displayName": "Ahmed Tawab",
      "userId": "12552899599655592498"
     },
     "user_tz": -120
    },
    "id": "YkcAhJWcEFrU",
    "outputId": "2ec8de74-4680-4502-ad25-26cb18f888b5"
   },
   "outputs": [],
   "source": [
    "from sklearn.ensemble import RandomForestRegressor\n",
    "from sklearn.linear_model import LinearRegression\n",
    "from sklearn.metrics import mean_squared_error\n",
    "\n",
    "# Creating and training the Random Forest model\n",
    "rf_model = RandomForestRegressor(random_state=42)\n",
    "rf_model.fit(X_train, y_train)\n",
    "\n",
    "lr_model = LinearRegression()\n",
    "lr_model.fit(X_train, y_train)"
   ]
  },
  {
   "cell_type": "markdown",
   "id": "ffe05e97",
   "metadata": {
    "id": "4dMX6zPrFG4g"
   },
   "source": [
    "Comparing Model Accuracy"
   ]
  },
  {
   "cell_type": "code",
   "execution_count": null,
   "id": "b9b994e2",
   "metadata": {
    "colab": {
     "base_uri": "https://localhost:8080/"
    },
    "executionInfo": {
     "elapsed": 7187,
     "status": "ok",
     "timestamp": 1684350544708,
     "user": {
      "displayName": "Ahmed Tawab",
      "userId": "12552899599655592498"
     },
     "user_tz": -120
    },
    "id": "kdn51nKKFIHo",
    "outputId": "85965e65-1465-4744-9906-07f23c606a2e"
   },
   "outputs": [],
   "source": [
    "# Making predictions on the testing set\n",
    "lr_predictions = lr_model.predict(X_test)\n",
    "rf_predictions = rf_model.predict(X_test)\n",
    "\n",
    "\n",
    "# Calculating the mean squared error (MSE) for both models\n",
    "lr_mse = mean_squared_error(y_test, lr_predictions)\n",
    "rf_mse = mean_squared_error(y_test, rf_predictions)\n",
    "\n",
    "\n",
    "# Calculating the accuracy (percentage) for both models\n",
    "lr_accuracy =  (100 * (lr_mse / y_test.mean()))\n",
    "lr_accuracy = 100 - (100 * (lr_mse / y_test.mean()))\n",
    "\n",
    "print(\"Linear Regression Accuracy:\", lr_accuracy)\n",
    "print(\"Random Forest Accuracy:\", rf_accuracy)\n",
    "\n",
    "\n"
   ]
  },
  {
   "cell_type": "code",
   "execution_count": null,
   "id": "0d7b4edd",
   "metadata": {},
   "outputs": [],
   "source": []
  }
 ],
 "metadata": {
  "colab": {
   "name": "",
   "version": ""
  },
  "kernelspec": {
   "display_name": "Python 3 (ipykernel)",
   "language": "python",
   "name": "python3"
  },
  "language_info": {
   "codemirror_mode": {
    "name": "ipython",
    "version": 3
   },
   "file_extension": ".py",
   "mimetype": "text/x-python",
   "name": "python",
   "nbconvert_exporter": "python",
   "pygments_lexer": "ipython3",
   "version": "3.9.12"
  }
 },
 "nbformat": 4,
 "nbformat_minor": 5
}
